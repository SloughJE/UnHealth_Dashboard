{
 "cells": [
  {
   "cell_type": "code",
   "execution_count": 104,
   "metadata": {},
   "outputs": [],
   "source": [
    "import pandas as pd \n",
    "import numpy as np \n",
    "import seaborn as sns \n",
    "import matplotlib.pyplot as plt\n",
    "pd.options.display.max_columns = None"
   ]
  },
  {
   "cell_type": "markdown",
   "metadata": {},
   "source": [
    "## Health Data by County"
   ]
  },
  {
   "cell_type": "code",
   "execution_count": null,
   "metadata": {},
   "outputs": [],
   "source": [
    "# CDC LOCALS health data\n",
    "# https://data.cdc.gov/500-Cities-Places/PLACES-ZCTA-Data-GIS-Friendly-Format-2023-release/kee5-23sr/about_data"
   ]
  },
  {
   "cell_type": "code",
   "execution_count": 128,
   "metadata": {},
   "outputs": [],
   "source": [
    "df_health1 = pd.read_csv(\"../data/raw/PLACES__Local_Data_for_Better_Health__County_Data_2022_release_20240102.csv\")"
   ]
  },
  {
   "cell_type": "code",
   "execution_count": 129,
   "metadata": {},
   "outputs": [
    {
     "data": {
      "text/plain": [
       "array([2020, 2019])"
      ]
     },
     "execution_count": 129,
     "metadata": {},
     "output_type": "execute_result"
    }
   ],
   "source": [
    "df_health1.Year.unique()"
   ]
  },
  {
   "cell_type": "code",
   "execution_count": 130,
   "metadata": {},
   "outputs": [],
   "source": [
    "df_health2 = pd.read_csv(\"../data/raw/PLACES__Local_Data_for_Better_Health__County_Data_2023_release_20240102.csv\")"
   ]
  },
  {
   "cell_type": "code",
   "execution_count": 131,
   "metadata": {},
   "outputs": [
    {
     "data": {
      "text/plain": [
       "array([2021, 2020])"
      ]
     },
     "execution_count": 131,
     "metadata": {},
     "output_type": "execute_result"
    }
   ],
   "source": [
    "df_health2.Year.unique()"
   ]
  },
  {
   "cell_type": "code",
   "execution_count": 132,
   "metadata": {},
   "outputs": [
    {
     "data": {
      "text/plain": [
       "Index(['Year', 'StateAbbr', 'StateDesc', 'LocationName', 'DataSource',\n",
       "       'Category', 'Measure', 'Data_Value_Unit', 'Data_Value_Type',\n",
       "       'Data_Value', 'Data_Value_Footnote_Symbol', 'Data_Value_Footnote',\n",
       "       'Low_Confidence_Limit', 'High_Confidence_Limit', 'TotalPopulation',\n",
       "       'LocationID', 'CategoryID', 'MeasureId', 'DataValueTypeID',\n",
       "       'Short_Question_Text', 'Geolocation'],\n",
       "      dtype='object')"
      ]
     },
     "execution_count": 132,
     "metadata": {},
     "output_type": "execute_result"
    }
   ],
   "source": [
    "df_health1.columns"
   ]
  },
  {
   "cell_type": "code",
   "execution_count": 133,
   "metadata": {},
   "outputs": [],
   "source": [
    "unique_lists_cols = ['Year', 'DataSource',\n",
    "       'Category', 'Measure', 'Data_Value_Unit', 'Data_Value_Type',\n",
    "        'Data_Value_Footnote_Symbol', 'Data_Value_Footnote',\n",
    "       'LocationID', 'CategoryID', 'MeasureId', 'DataValueTypeID',\n",
    "       'Short_Question_Text']"
   ]
  },
  {
   "cell_type": "code",
   "execution_count": 134,
   "metadata": {},
   "outputs": [
    {
     "name": "stdout",
     "output_type": "stream",
     "text": [
      "Year\n",
      "[2020 2019]\n",
      "DataSource\n",
      "['BRFSS']\n",
      "Category\n",
      "['Prevention' 'Health Outcomes' 'Health Risk Behaviors' 'Health Status']\n",
      "Measure\n",
      "['Current lack of health insurance among adults aged 18-64 years'\n",
      " 'Diagnosed diabetes among adults aged >=18 years'\n",
      " 'Visits to doctor for routine checkup within the past year among adults aged >=18 years'\n",
      " 'Cervical cancer screening among adult women aged 21-65 years']\n",
      "Data_Value_Unit\n",
      "['%']\n",
      "Data_Value_Type\n",
      "['Crude prevalence' 'Age-adjusted prevalence']\n",
      "Data_Value_Footnote_Symbol\n",
      "[nan]\n",
      "Data_Value_Footnote\n",
      "[nan]\n",
      "LocationID\n",
      "[  59 1121 1123 1131]\n",
      "CategoryID\n",
      "['PREVENT' 'HLTHOUT' 'RISKBEH' 'HLTHSTAT']\n",
      "MeasureId\n",
      "['ACCESS2' 'DIABETES' 'CHECKUP' 'CERVICAL']\n",
      "DataValueTypeID\n",
      "['CrdPrv' 'AgeAdjPrv']\n",
      "Short_Question_Text\n",
      "['Health Insurance' 'Diabetes' 'Annual Checkup'\n",
      " 'Cervical Cancer Screening']\n"
     ]
    }
   ],
   "source": [
    "for col in unique_lists_cols:\n",
    "    print(col)\n",
    "    print(df_health1[col].unique()[0:4])"
   ]
  },
  {
   "cell_type": "code",
   "execution_count": 135,
   "metadata": {},
   "outputs": [
    {
     "name": "stdout",
     "output_type": "stream",
     "text": [
      "Year\n",
      "2\n",
      "StateAbbr\n",
      "52\n",
      "StateDesc\n",
      "52\n",
      "LocationName\n",
      "1840\n",
      "DataSource\n",
      "1\n",
      "Category\n",
      "4\n",
      "Measure\n",
      "30\n",
      "Data_Value_Unit\n",
      "1\n",
      "Data_Value_Type\n",
      "2\n",
      "Data_Value\n",
      "903\n",
      "Data_Value_Footnote_Symbol\n",
      "0\n",
      "Data_Value_Footnote\n",
      "0\n",
      "Low_Confidence_Limit\n",
      "900\n",
      "High_Confidence_Limit\n",
      "911\n",
      "TotalPopulation\n",
      "3068\n",
      "LocationID\n",
      "3144\n",
      "CategoryID\n",
      "4\n",
      "MeasureId\n",
      "30\n",
      "DataValueTypeID\n",
      "2\n",
      "Short_Question_Text\n",
      "30\n",
      "Geolocation\n",
      "3143\n"
     ]
    }
   ],
   "source": [
    "for col in df_health1.columns:\n",
    "    print(col)\n",
    "    print(df_health1[col].nunique())"
   ]
  },
  {
   "cell_type": "code",
   "execution_count": 136,
   "metadata": {},
   "outputs": [
    {
     "data": {
      "text/plain": [
       "array(['US', 'AL', 'AK', 'AZ', 'AR', 'CA', 'CO', 'CT', 'FL', 'GA', 'ID',\n",
       "       'IL', 'IN', 'IA', 'KS', 'KY', 'LA', 'MD', 'MA', 'MI', 'MN', 'MS',\n",
       "       'MO', 'MT', 'NE', 'NV', 'NH', 'NJ', 'NM', 'NY', 'NC', 'ND', 'OH',\n",
       "       'OK', 'OR', 'PA', 'RI', 'SC', 'SD', 'TN', 'TX', 'UT', 'VT', 'VA',\n",
       "       'WY', 'WA', 'WV', 'WI', 'DE', 'DC', 'HI', 'ME'], dtype=object)"
      ]
     },
     "execution_count": 136,
     "metadata": {},
     "output_type": "execute_result"
    }
   ],
   "source": [
    "df_health1.StateAbbr.unique()"
   ]
  },
  {
   "cell_type": "code",
   "execution_count": 137,
   "metadata": {},
   "outputs": [
    {
     "data": {
      "text/plain": [
       "1840"
      ]
     },
     "execution_count": 137,
     "metadata": {},
     "output_type": "execute_result"
    }
   ],
   "source": [
    "df_health1.LocationName.nunique()"
   ]
  },
  {
   "cell_type": "code",
   "execution_count": 138,
   "metadata": {},
   "outputs": [
    {
     "data": {
      "text/plain": [
       "array(['BRFSS'], dtype=object)"
      ]
     },
     "execution_count": 138,
     "metadata": {},
     "output_type": "execute_result"
    }
   ],
   "source": [
    "df_health1.DataSource.unique()"
   ]
  },
  {
   "cell_type": "code",
   "execution_count": 139,
   "metadata": {},
   "outputs": [
    {
     "data": {
      "text/plain": [
       "array(['Prevention', 'Health Outcomes', 'Health Risk Behaviors',\n",
       "       'Health Status'], dtype=object)"
      ]
     },
     "execution_count": 139,
     "metadata": {},
     "output_type": "execute_result"
    }
   ],
   "source": [
    "df_health1.Category.unique()"
   ]
  },
  {
   "cell_type": "markdown",
   "metadata": {},
   "source": [
    "## Economic Data by County"
   ]
  },
  {
   "cell_type": "code",
   "execution_count": 95,
   "metadata": {},
   "outputs": [],
   "source": [
    "#Economic Data - by county\n",
    "# https://www.bea.gov/data/gdp/gdp-county-metro-and-other-areas\n",
    "file_path = \"../data/raw/lagdp1223.xlsx\"\n",
    "df = pd.read_excel(file_path, skiprows=3,skipfooter=4,names=['Location','GDP_2019','GDP_2020','GDP_2021','GDP_2022','GDP_RankInState_2022','PctChange_2020','PctChange_2021','PctChange_2022','PctChange_RankInState_2022'])"
   ]
  },
  {
   "cell_type": "code",
   "execution_count": 96,
   "metadata": {},
   "outputs": [],
   "source": [
    "# Initialize an empty list to hold the state names as we go\n",
    "states = []\n",
    "\n",
    "# Initialize the current state variable\n",
    "current_state = None\n",
    "\n",
    "# Loop through each row in the DataFrame\n",
    "for index, row in df.iterrows():\n",
    "    # Check if the Location is USA\n",
    "    if row['Location'] == 'United States':\n",
    "            # Set both State and County as 'Total'\n",
    "            df.at[index, 'State'] = 'TOTAL'\n",
    "            df.at[index, 'County'] = 'TOTAL'\n",
    "            current_state = 'United States'  # Set the current state to 'United States'\n",
    "            states.append(current_state)  # Add to our list of states\n",
    "\n",
    "\n",
    "    elif pd.isna(row['Location']):\n",
    "        # Set the next row's Location as the current state\n",
    "        # Check if the next row exists to avoid IndexError at the end of the DataFrame\n",
    "        if index + 1 < len(df):\n",
    "            current_state = df.at[index + 1, 'Location']\n",
    "            states.append(current_state)  # Add the state to our list\n",
    "    else:\n",
    "        # If it's not NaN and not a state (since states were added to the list),\n",
    "        # it must be a county, so we assign the current state to it\n",
    "        if row['Location'] not in states:\n",
    "            df.at[index, 'State'] = current_state\n",
    "            df.at[index, 'County'] = row['Location']\n",
    "        else:\n",
    "            # It's a state, so we assign it as 'Total' to the County column\n",
    "            df.at[index, 'State'] = row['Location']\n",
    "            df.at[index, 'County'] = 'TOTAL'\n",
    "\n",
    "# Drop the NaN rows from the DataFrame as they are just separators\n",
    "df.dropna(subset=['Location'], inplace=True)\n",
    "df.drop(columns=['Location'],inplace=True)\n",
    "# The DataFrame now has 'State' and 'County' for each row\n",
    "df = df[['State', 'County'] + [c for c in df.columns if c not in ['State', 'County']]]\n",
    "\n"
   ]
  },
  {
   "cell_type": "code",
   "execution_count": 97,
   "metadata": {},
   "outputs": [
    {
     "data": {
      "text/html": [
       "<div>\n",
       "<style scoped>\n",
       "    .dataframe tbody tr th:only-of-type {\n",
       "        vertical-align: middle;\n",
       "    }\n",
       "\n",
       "    .dataframe tbody tr th {\n",
       "        vertical-align: top;\n",
       "    }\n",
       "\n",
       "    .dataframe thead th {\n",
       "        text-align: right;\n",
       "    }\n",
       "</style>\n",
       "<table border=\"1\" class=\"dataframe\">\n",
       "  <thead>\n",
       "    <tr style=\"text-align: right;\">\n",
       "      <th></th>\n",
       "      <th>State</th>\n",
       "      <th>County</th>\n",
       "      <th>GDP_2019</th>\n",
       "      <th>GDP_2020</th>\n",
       "      <th>GDP_2021</th>\n",
       "      <th>GDP_2022</th>\n",
       "      <th>GDP_RankInState_2022</th>\n",
       "      <th>PctChange_2020</th>\n",
       "      <th>PctChange_2021</th>\n",
       "      <th>PctChange_2022</th>\n",
       "      <th>PctChange_RankInState_2022</th>\n",
       "    </tr>\n",
       "  </thead>\n",
       "  <tbody>\n",
       "    <tr>\n",
       "      <th>0</th>\n",
       "      <td>TOTAL</td>\n",
       "      <td>TOTAL</td>\n",
       "      <td>20573580103</td>\n",
       "      <td>20106509888</td>\n",
       "      <td>21271676784</td>\n",
       "      <td>21668520913</td>\n",
       "      <td>--</td>\n",
       "      <td>-2.3</td>\n",
       "      <td>5.8</td>\n",
       "      <td>1.9</td>\n",
       "      <td>--</td>\n",
       "    </tr>\n",
       "    <tr>\n",
       "      <th>2</th>\n",
       "      <td>Alabama</td>\n",
       "      <td>TOTAL</td>\n",
       "      <td>224944577</td>\n",
       "      <td>222081439</td>\n",
       "      <td>231892626</td>\n",
       "      <td>235807320</td>\n",
       "      <td>--</td>\n",
       "      <td>-1.3</td>\n",
       "      <td>4.4</td>\n",
       "      <td>1.7</td>\n",
       "      <td>--</td>\n",
       "    </tr>\n",
       "    <tr>\n",
       "      <th>3</th>\n",
       "      <td>Alabama</td>\n",
       "      <td>Autauga</td>\n",
       "      <td>1730861</td>\n",
       "      <td>1722438</td>\n",
       "      <td>1727818</td>\n",
       "      <td>1929264</td>\n",
       "      <td>23</td>\n",
       "      <td>-0.5</td>\n",
       "      <td>0.3</td>\n",
       "      <td>11.7</td>\n",
       "      <td>1</td>\n",
       "    </tr>\n",
       "    <tr>\n",
       "      <th>4</th>\n",
       "      <td>Alabama</td>\n",
       "      <td>Baldwin</td>\n",
       "      <td>8148786</td>\n",
       "      <td>8102009</td>\n",
       "      <td>8738819</td>\n",
       "      <td>8924207</td>\n",
       "      <td>7</td>\n",
       "      <td>-0.6</td>\n",
       "      <td>7.9</td>\n",
       "      <td>2.1</td>\n",
       "      <td>27</td>\n",
       "    </tr>\n",
       "    <tr>\n",
       "      <th>5</th>\n",
       "      <td>Alabama</td>\n",
       "      <td>Barbour</td>\n",
       "      <td>762557</td>\n",
       "      <td>731636</td>\n",
       "      <td>747888</td>\n",
       "      <td>745349</td>\n",
       "      <td>42</td>\n",
       "      <td>-4.1</td>\n",
       "      <td>2.2</td>\n",
       "      <td>-0.3</td>\n",
       "      <td>43</td>\n",
       "    </tr>\n",
       "  </tbody>\n",
       "</table>\n",
       "</div>"
      ],
      "text/plain": [
       "     State   County     GDP_2019     GDP_2020     GDP_2021     GDP_2022  \\\n",
       "0    TOTAL    TOTAL  20573580103  20106509888  21271676784  21668520913   \n",
       "2  Alabama    TOTAL    224944577    222081439    231892626    235807320   \n",
       "3  Alabama  Autauga      1730861      1722438      1727818      1929264   \n",
       "4  Alabama  Baldwin      8148786      8102009      8738819      8924207   \n",
       "5  Alabama  Barbour       762557       731636       747888       745349   \n",
       "\n",
       "  GDP_RankInState_2022 PctChange_2020 PctChange_2021 PctChange_2022  \\\n",
       "0                   --           -2.3            5.8            1.9   \n",
       "2                   --           -1.3            4.4            1.7   \n",
       "3                   23           -0.5            0.3           11.7   \n",
       "4                    7           -0.6            7.9            2.1   \n",
       "5                   42           -4.1            2.2           -0.3   \n",
       "\n",
       "  PctChange_RankInState_2022  \n",
       "0                         --  \n",
       "2                         --  \n",
       "3                          1  \n",
       "4                         27  \n",
       "5                         43  "
      ]
     },
     "execution_count": 97,
     "metadata": {},
     "output_type": "execute_result"
    }
   ],
   "source": [
    "df.head()  # Display the first few rows to check our work"
   ]
  },
  {
   "cell_type": "code",
   "execution_count": 98,
   "metadata": {},
   "outputs": [
    {
     "data": {
      "text/html": [
       "<div>\n",
       "<style scoped>\n",
       "    .dataframe tbody tr th:only-of-type {\n",
       "        vertical-align: middle;\n",
       "    }\n",
       "\n",
       "    .dataframe tbody tr th {\n",
       "        vertical-align: top;\n",
       "    }\n",
       "\n",
       "    .dataframe thead th {\n",
       "        text-align: right;\n",
       "    }\n",
       "</style>\n",
       "<table border=\"1\" class=\"dataframe\">\n",
       "  <thead>\n",
       "    <tr style=\"text-align: right;\">\n",
       "      <th></th>\n",
       "      <th>State</th>\n",
       "      <th>County</th>\n",
       "      <th>GDP_2019</th>\n",
       "      <th>GDP_2020</th>\n",
       "      <th>GDP_2021</th>\n",
       "      <th>GDP_2022</th>\n",
       "      <th>GDP_RankInState_2022</th>\n",
       "      <th>PctChange_2020</th>\n",
       "      <th>PctChange_2021</th>\n",
       "      <th>PctChange_2022</th>\n",
       "      <th>PctChange_RankInState_2022</th>\n",
       "    </tr>\n",
       "  </thead>\n",
       "  <tbody>\n",
       "    <tr>\n",
       "      <th>3214</th>\n",
       "      <td>Wyoming</td>\n",
       "      <td>Sweetwater</td>\n",
       "      <td>3695022</td>\n",
       "      <td>3405807</td>\n",
       "      <td>3288513</td>\n",
       "      <td>3095421</td>\n",
       "      <td>5</td>\n",
       "      <td>-7.8</td>\n",
       "      <td>-3.4</td>\n",
       "      <td>-5.9</td>\n",
       "      <td>19</td>\n",
       "    </tr>\n",
       "    <tr>\n",
       "      <th>3215</th>\n",
       "      <td>Wyoming</td>\n",
       "      <td>Teton</td>\n",
       "      <td>2620496</td>\n",
       "      <td>2659859</td>\n",
       "      <td>3591537</td>\n",
       "      <td>3507901</td>\n",
       "      <td>4</td>\n",
       "      <td>1.5</td>\n",
       "      <td>35</td>\n",
       "      <td>-2.3</td>\n",
       "      <td>16</td>\n",
       "    </tr>\n",
       "    <tr>\n",
       "      <th>3216</th>\n",
       "      <td>Wyoming</td>\n",
       "      <td>Uinta</td>\n",
       "      <td>882964</td>\n",
       "      <td>783682</td>\n",
       "      <td>800735</td>\n",
       "      <td>813461</td>\n",
       "      <td>13</td>\n",
       "      <td>-11.2</td>\n",
       "      <td>2.2</td>\n",
       "      <td>1.6</td>\n",
       "      <td>7</td>\n",
       "    </tr>\n",
       "    <tr>\n",
       "      <th>3217</th>\n",
       "      <td>Wyoming</td>\n",
       "      <td>Washakie</td>\n",
       "      <td>346359</td>\n",
       "      <td>344531</td>\n",
       "      <td>346237</td>\n",
       "      <td>342039</td>\n",
       "      <td>19</td>\n",
       "      <td>-0.5</td>\n",
       "      <td>0.5</td>\n",
       "      <td>-1.2</td>\n",
       "      <td>12</td>\n",
       "    </tr>\n",
       "    <tr>\n",
       "      <th>3218</th>\n",
       "      <td>Wyoming</td>\n",
       "      <td>Weston</td>\n",
       "      <td>303330</td>\n",
       "      <td>286131</td>\n",
       "      <td>285672</td>\n",
       "      <td>279273</td>\n",
       "      <td>21</td>\n",
       "      <td>-5.7</td>\n",
       "      <td>-0.2</td>\n",
       "      <td>-2.2</td>\n",
       "      <td>13</td>\n",
       "    </tr>\n",
       "  </tbody>\n",
       "</table>\n",
       "</div>"
      ],
      "text/plain": [
       "        State      County GDP_2019 GDP_2020 GDP_2021 GDP_2022  \\\n",
       "3214  Wyoming  Sweetwater  3695022  3405807  3288513  3095421   \n",
       "3215  Wyoming       Teton  2620496  2659859  3591537  3507901   \n",
       "3216  Wyoming       Uinta   882964   783682   800735   813461   \n",
       "3217  Wyoming    Washakie   346359   344531   346237   342039   \n",
       "3218  Wyoming      Weston   303330   286131   285672   279273   \n",
       "\n",
       "     GDP_RankInState_2022 PctChange_2020 PctChange_2021 PctChange_2022  \\\n",
       "3214                    5           -7.8           -3.4           -5.9   \n",
       "3215                    4            1.5             35           -2.3   \n",
       "3216                   13          -11.2            2.2            1.6   \n",
       "3217                   19           -0.5            0.5           -1.2   \n",
       "3218                   21           -5.7           -0.2           -2.2   \n",
       "\n",
       "     PctChange_RankInState_2022  \n",
       "3214                         19  \n",
       "3215                         16  \n",
       "3216                          7  \n",
       "3217                         12  \n",
       "3218                         13  "
      ]
     },
     "execution_count": 98,
     "metadata": {},
     "output_type": "execute_result"
    }
   ],
   "source": [
    "df.tail()"
   ]
  },
  {
   "cell_type": "code",
   "execution_count": 106,
   "metadata": {},
   "outputs": [
    {
     "data": {
      "text/html": [
       "<div>\n",
       "<style scoped>\n",
       "    .dataframe tbody tr th:only-of-type {\n",
       "        vertical-align: middle;\n",
       "    }\n",
       "\n",
       "    .dataframe tbody tr th {\n",
       "        vertical-align: top;\n",
       "    }\n",
       "\n",
       "    .dataframe thead th {\n",
       "        text-align: right;\n",
       "    }\n",
       "</style>\n",
       "<table border=\"1\" class=\"dataframe\">\n",
       "  <thead>\n",
       "    <tr style=\"text-align: right;\">\n",
       "      <th></th>\n",
       "      <th>State</th>\n",
       "      <th>County</th>\n",
       "      <th>GDP_2019</th>\n",
       "      <th>GDP_2020</th>\n",
       "      <th>GDP_2021</th>\n",
       "      <th>GDP_2022</th>\n",
       "      <th>GDP_RankInState_2022</th>\n",
       "      <th>PctChange_2020</th>\n",
       "      <th>PctChange_2021</th>\n",
       "      <th>PctChange_2022</th>\n",
       "      <th>PctChange_RankInState_2022</th>\n",
       "    </tr>\n",
       "  </thead>\n",
       "  <tbody>\n",
       "    <tr>\n",
       "      <th>558</th>\n",
       "      <td>Georgia</td>\n",
       "      <td>Ware</td>\n",
       "      <td>1415915</td>\n",
       "      <td>1330060</td>\n",
       "      <td>1333672</td>\n",
       "      <td>1338301</td>\n",
       "      <td>56</td>\n",
       "      <td>-6.1</td>\n",
       "      <td>0.3</td>\n",
       "      <td>0.3</td>\n",
       "      <td>100</td>\n",
       "    </tr>\n",
       "  </tbody>\n",
       "</table>\n",
       "</div>"
      ],
      "text/plain": [
       "       State County GDP_2019 GDP_2020 GDP_2021 GDP_2022 GDP_RankInState_2022  \\\n",
       "558  Georgia   Ware  1415915  1330060  1333672  1338301                   56   \n",
       "\n",
       "    PctChange_2020 PctChange_2021 PctChange_2022 PctChange_RankInState_2022  \n",
       "558           -6.1            0.3            0.3                        100  "
      ]
     },
     "execution_count": 106,
     "metadata": {},
     "output_type": "execute_result"
    }
   ],
   "source": [
    "df[df.County=='Ware']"
   ]
  },
  {
   "cell_type": "code",
   "execution_count": 110,
   "metadata": {},
   "outputs": [
    {
     "data": {
      "text/plain": [
       "array(['GA', 'IN', 'IA', 'TX', 'AL', 'AK', 'CA', 'AR', 'US', 'AZ', 'IL',\n",
       "       'ID', 'KS', 'KY', 'CO', 'CT', 'DE', 'FL', 'DC', 'HI', 'LA', 'MI',\n",
       "       'MN', 'MS', 'MD', 'MA', 'ME', 'MT', 'NE', 'MO', 'NY', 'ND', 'OR',\n",
       "       'OH', 'OK', 'PA', 'NV', 'NC', 'NJ', 'NM', 'NH', 'SD', 'SC', 'TN',\n",
       "       'RI', 'VA', 'UT', 'WI', 'WY', 'WV', 'VT', 'WA'], dtype=object)"
      ]
     },
     "execution_count": 110,
     "metadata": {},
     "output_type": "execute_result"
    }
   ],
   "source": [
    "df.County.nunique()"
   ]
  },
  {
   "cell_type": "markdown",
   "metadata": {},
   "source": [
    "## Food Access Data by County"
   ]
  },
  {
   "cell_type": "code",
   "execution_count": null,
   "metadata": {},
   "outputs": [],
   "source": [
    "# food access data by county\n",
    "#https://www.ers.usda.gov/data-products/food-environment-atlas/data-access-and-documentation-downloads/#Current%20Version\n",
    "# for example has rate of fast food per county"
   ]
  },
  {
   "cell_type": "code",
   "execution_count": 140,
   "metadata": {},
   "outputs": [],
   "source": [
    "df_food = pd.read_csv(\"../data/raw/FoodEnvironmentAtlas/StateAndCountyData.csv\")"
   ]
  },
  {
   "cell_type": "code",
   "execution_count": 141,
   "metadata": {},
   "outputs": [
    {
     "data": {
      "text/html": [
       "<div>\n",
       "<style scoped>\n",
       "    .dataframe tbody tr th:only-of-type {\n",
       "        vertical-align: middle;\n",
       "    }\n",
       "\n",
       "    .dataframe tbody tr th {\n",
       "        vertical-align: top;\n",
       "    }\n",
       "\n",
       "    .dataframe thead th {\n",
       "        text-align: right;\n",
       "    }\n",
       "</style>\n",
       "<table border=\"1\" class=\"dataframe\">\n",
       "  <thead>\n",
       "    <tr style=\"text-align: right;\">\n",
       "      <th></th>\n",
       "      <th>FIPS</th>\n",
       "      <th>State</th>\n",
       "      <th>County</th>\n",
       "      <th>Variable_Code</th>\n",
       "      <th>Value</th>\n",
       "    </tr>\n",
       "  </thead>\n",
       "  <tbody>\n",
       "    <tr>\n",
       "      <th>0</th>\n",
       "      <td>1001</td>\n",
       "      <td>AL</td>\n",
       "      <td>Autauga</td>\n",
       "      <td>LACCESS_POP10</td>\n",
       "      <td>18428.439690</td>\n",
       "    </tr>\n",
       "    <tr>\n",
       "      <th>1</th>\n",
       "      <td>1001</td>\n",
       "      <td>AL</td>\n",
       "      <td>Autauga</td>\n",
       "      <td>LACCESS_POP15</td>\n",
       "      <td>17496.693040</td>\n",
       "    </tr>\n",
       "    <tr>\n",
       "      <th>2</th>\n",
       "      <td>1001</td>\n",
       "      <td>AL</td>\n",
       "      <td>Autauga</td>\n",
       "      <td>PCH_LACCESS_POP_10_15</td>\n",
       "      <td>-5.056026</td>\n",
       "    </tr>\n",
       "    <tr>\n",
       "      <th>3</th>\n",
       "      <td>1001</td>\n",
       "      <td>AL</td>\n",
       "      <td>Autauga</td>\n",
       "      <td>PCT_LACCESS_POP10</td>\n",
       "      <td>33.769657</td>\n",
       "    </tr>\n",
       "    <tr>\n",
       "      <th>4</th>\n",
       "      <td>1001</td>\n",
       "      <td>AL</td>\n",
       "      <td>Autauga</td>\n",
       "      <td>PCT_LACCESS_POP15</td>\n",
       "      <td>32.062255</td>\n",
       "    </tr>\n",
       "  </tbody>\n",
       "</table>\n",
       "</div>"
      ],
      "text/plain": [
       "   FIPS State   County          Variable_Code         Value\n",
       "0  1001    AL  Autauga          LACCESS_POP10  18428.439690\n",
       "1  1001    AL  Autauga          LACCESS_POP15  17496.693040\n",
       "2  1001    AL  Autauga  PCH_LACCESS_POP_10_15     -5.056026\n",
       "3  1001    AL  Autauga      PCT_LACCESS_POP10     33.769657\n",
       "4  1001    AL  Autauga      PCT_LACCESS_POP15     32.062255"
      ]
     },
     "execution_count": 141,
     "metadata": {},
     "output_type": "execute_result"
    }
   ],
   "source": [
    "df_food.head()"
   ]
  },
  {
   "cell_type": "code",
   "execution_count": 142,
   "metadata": {},
   "outputs": [
    {
     "data": {
      "text/plain": [
       "array(['AL', 'AK', 'AZ', 'AR', 'CA', 'CO', 'CT', 'DE', 'DC', 'FL', 'GA',\n",
       "       'HI', 'ID', 'IL', 'IN', 'IA', 'KS', 'KY', 'LA', 'ME', 'MD', 'MA',\n",
       "       'MI', 'MN', 'MS', 'MO', 'MT', 'NE', 'NV', 'NH', 'NJ', 'NM', 'NY',\n",
       "       'NC', 'ND', 'OH', 'OK', 'OR', 'PA', 'RI', 'SC', 'SD', 'TN', 'TX',\n",
       "       'UT', 'VT', 'VA', 'WA', 'WV', 'WI', 'WY', ' AK', ' AZ', ' AR',\n",
       "       ' CA', ' CO', ' CT', ' DE', ' DC', ' FL', ' GA', ' HI', ' ID',\n",
       "       ' IL', ' IN', ' IA', ' KS', ' KY', ' LA', ' ME', ' MD', ' MA',\n",
       "       ' MI', ' MN', ' MS', ' MO', ' MT', ' NE', ' NV', ' NH', ' NJ',\n",
       "       ' NM', ' NY', ' NC', ' ND', ' OH', ' OK', ' OR', ' PA', ' RI',\n",
       "       ' SC', ' SD', ' TN', ' TX', ' UT', ' VT', ' VA', ' WA', ' WV',\n",
       "       ' WI', ' WY'], dtype=object)"
      ]
     },
     "execution_count": 142,
     "metadata": {},
     "output_type": "execute_result"
    }
   ],
   "source": [
    "df_food.State.unique()"
   ]
  },
  {
   "cell_type": "code",
   "execution_count": 143,
   "metadata": {},
   "outputs": [
    {
     "data": {
      "text/plain": [
       "3708"
      ]
     },
     "execution_count": 143,
     "metadata": {},
     "output_type": "execute_result"
    }
   ],
   "source": [
    "df_food.County.nunique()"
   ]
  },
  {
   "cell_type": "code",
   "execution_count": 144,
   "metadata": {},
   "outputs": [
    {
     "data": {
      "text/plain": [
       "array(['LACCESS_POP10', 'LACCESS_POP15', 'PCH_LACCESS_POP_10_15',\n",
       "       'PCT_LACCESS_POP10', 'PCT_LACCESS_POP15', 'LACCESS_LOWI10',\n",
       "       'LACCESS_LOWI15', 'PCH_LACCESS_LOWI_10_15', 'PCT_LACCESS_LOWI10',\n",
       "       'PCT_LACCESS_LOWI15', 'LACCESS_HHNV10', 'LACCESS_HHNV15',\n",
       "       'PCH_LACCESS_HHNV_10_15', 'PCT_LACCESS_HHNV10',\n",
       "       'PCT_LACCESS_HHNV15', 'LACCESS_SNAP15', 'PCT_LACCESS_SNAP15',\n",
       "       'LACCESS_CHILD10', 'LACCESS_CHILD15', 'LACCESS_CHILD_10_15',\n",
       "       'PCT_LACCESS_CHILD10', 'PCT_LACCESS_CHILD15', 'LACCESS_SENIORS10',\n",
       "       'LACCESS_SENIORS15', 'PCH_LACCESS_SENIORS_10_15',\n",
       "       'PCT_LACCESS_SENIORS10', 'PCT_LACCESS_SENIORS15',\n",
       "       'LACCESS_WHITE15', 'PCT_LACCESS_WHITE15', 'LACCESS_BLACK15',\n",
       "       'PCT_LACCESS_BLACK15', 'LACCESS_HISP15', 'PCT_LACCESS_HISP15',\n",
       "       'LACCESS_NHASIAN15', 'PCT_LACCESS_NHASIAN15', 'LACCESS_NHNA15',\n",
       "       'PCT_LACCESS_NHNA15', 'LACCESS_NHPI15', 'PCT_LACCESS_NHPI15',\n",
       "       'LACCESS_MULTIR15', 'PCT_LACCESS_MULTIR15', 'GROC11', 'GROC16',\n",
       "       'PCH_GROC_11_16', 'GROCPTH11', 'GROCPTH16', 'PCH_GROCPTH_11_16',\n",
       "       'SUPERC11', 'SUPERC16', 'PCH_SUPERC_11_16', 'SUPERCPTH11',\n",
       "       'SUPERCPTH16', 'PCH_SUPERCPTH_11_16', 'CONVS11', 'CONVS16',\n",
       "       'PCH_CONVS_11_16', 'CONVSPTH11', 'CONVSPTH16',\n",
       "       'PCH_CONVSPTH_11_16', 'SPECS11', 'SPECS16', 'PCH_SPECS_11_16',\n",
       "       'SPECSPTH11', 'SPECSPTH16', 'PCH_SPECSPTH_11_16', 'SNAPS12',\n",
       "       'SNAPS17', 'PCH_SNAPS_12_17', 'SNAPSPTH12', 'SNAPSPTH17',\n",
       "       'PCH_SNAPSPTH_12_17', 'WICS11', 'WICS16', 'PCH_WICS_11_16',\n",
       "       'WICSPTH11', 'WICSPTH16', 'PCH_WICSPTH_11_16', 'FFR11', 'FFR16',\n",
       "       'PCH_FFR_11_16', 'FFRPTH11', 'FFRPTH16', 'PCH_FFRPTH_11_16',\n",
       "       'FSR11', 'FSR16', 'PCH_FSR_11_16', 'FSRPTH11', 'FSRPTH16',\n",
       "       'PCH_FSRPTH_11_16', 'PC_FFRSALES07', 'PC_FFRSALES12',\n",
       "       'PC_FSRSALES07', 'PC_FSRSALES12', 'REDEMP_SNAPS12',\n",
       "       'REDEMP_SNAPS17', 'PCH_REDEMP_SNAPS_12_17', 'PCT_SNAP12',\n",
       "       'PCT_SNAP17', 'PCH_SNAP_12_17', 'PC_SNAPBEN12', 'PC_SNAPBEN17',\n",
       "       'PCH_PC_SNAPBEN_12_17', 'SNAP_PART_RATE11', 'SNAP_PART_RATE16',\n",
       "       'SNAP_OAPP09', 'SNAP_OAPP16', 'SNAP_CAP09', 'SNAP_CAP16',\n",
       "       'SNAP_BBCE09', 'SNAP_BBCE16', 'SNAP_REPORTSIMPLE09',\n",
       "       'SNAP_REPORTSIMPLE16', 'PCT_NSLP12', 'PCT_NSLP17',\n",
       "       'PCH_NSLP_12_17', 'PCT_FREE_LUNCH10', 'PCT_REDUCED_LUNCH10',\n",
       "       'PCT_SBP12', 'PCT_SBP17', 'PCH_SBP_12_17', 'PCT_SFSP12',\n",
       "       'PCT_SFSP17', 'PCH_SFSP_12_17', 'PC_WIC_REDEMP11',\n",
       "       'PC_WIC_REDEMP16', 'PCH_PC_WIC_REDEMP_11_16', 'REDEMP_WICS11',\n",
       "       'REDEMP_WICS16', 'PCH_REDEMP_WICS_11_16', 'PCT_WIC12', 'PCT_WIC17',\n",
       "       'PCH_WIC_12_17', 'PCT_WICINFANTCHILD14', 'PCT_WICINFANTCHILD16',\n",
       "       'PCH_WICINFANTCHILD_14_16', 'PCT_WICWOMEN14', 'PCT_WICWOMEN16',\n",
       "       'PCH_WICWOMEN_14_16', 'PCT_CACFP12', 'PCT_CACFP17',\n",
       "       'PCH_CACFP_12_17', 'FDPIR12', 'FDPIR15', 'PCH_FDPIR_12_15',\n",
       "       'FOOD_BANKS18', 'PCT_FREE_LUNCH15', 'PCT_REDUCED_LUNCH15',\n",
       "       'FOODINSEC_12_14', 'FOODINSEC_15_17', 'CH_FOODINSEC_14_17',\n",
       "       'VLFOODSEC_12_14', 'VLFOODSEC_15_17', 'CH_VLFOODSEC_14_17',\n",
       "       'SODATAX_STORES14', 'SODATAX_VENDM14', 'CHIPSTAX_STORES14',\n",
       "       'CHIPSTAX_VENDM14', 'FOOD_TAX14', 'DIRSALES_FARMS07',\n",
       "       'DIRSALES_FARMS12', 'PCH_DIRSALES_FARMS_07_12', 'PCT_LOCLFARM07',\n",
       "       'PCT_LOCLFARM12', 'PCT_LOCLSALE07', 'PCT_LOCLSALE12', 'DIRSALES07',\n",
       "       'DIRSALES12', 'PCH_DIRSALES_07_12', 'PC_DIRSALES07',\n",
       "       'PC_DIRSALES12', 'PCH_PC_DIRSALES_07_12', 'FMRKT13', 'FMRKT18',\n",
       "       'PCH_FMRKT_13_18', 'FMRKTPTH13', 'FMRKTPTH18',\n",
       "       'PCH_FMRKTPTH_13_18', 'FMRKT_SNAP18', 'PCT_FMRKT_SNAP18',\n",
       "       'FMRKT_WIC18', 'PCT_FMRKT_WIC18', 'FMRKT_WICCASH18',\n",
       "       'PCT_FMRKT_WICCASH18', 'FMRKT_SFMNP18', 'PCT_FMRKT_SFMNP18',\n",
       "       'FMRKT_CREDIT18', 'PCT_FMRKT_CREDIT18', 'FMRKT_FRVEG18',\n",
       "       'PCT_FMRKT_FRVEG18', 'FMRKT_ANMLPROD18', 'PCT_FMRKT_ANMLPROD18',\n",
       "       'FMRKT_BAKED18', 'PCT_FMRKT_BAKED18', 'FMRKT_OTHERFOOD18',\n",
       "       'PCT_FMRKT_OTHERFOOD18', 'VEG_FARMS07', 'VEG_FARMS12',\n",
       "       'PCH_VEG_FARMS_07_12', 'VEG_ACRES07', 'VEG_ACRES12',\n",
       "       'PCH_VEG_ACRES_07_12', 'VEG_ACRESPTH07', 'VEG_ACRESPTH12',\n",
       "       'PCH_VEG_ACRESPTH_07_12', 'FRESHVEG_FARMS07', 'FRESHVEG_FARMS12',\n",
       "       'PCH_FRESHVEG_FARMS_07_12', 'ORCHARD_FARMS07', 'ORCHARD_FARMS12',\n",
       "       'PCH_ORCHARD_FARMS_07_12', 'ORCHARD_ACRES07', 'ORCHARD_ACRES12',\n",
       "       'PCH_ORCHARD_ACRES_07_12', 'ORCHARD_ACRESPTH07',\n",
       "       'ORCHARD_ACRESPTH12', 'PCH_ORCHARD_ACRESPTH_07_12',\n",
       "       'BERRY_FARMS07', 'BERRY_FARMS12', 'PCH_BERRY_FARMS_07_12',\n",
       "       'BERRY_ACRES12', 'BERRY_ACRESPTH12', 'SLHOUSE07', 'SLHOUSE12',\n",
       "       'PCH_SLHOUSE_07_12', 'GHVEG_FARMS07', 'GHVEG_FARMS12',\n",
       "       'GHVEG_SQFT07', 'GHVEG_SQFT12', 'GHVEG_SQFTPTH07',\n",
       "       'GHVEG_SQFTPTH12', 'CSA07', 'CSA12', 'PCH_CSA_07_12',\n",
       "       'AGRITRSM_OPS07', 'AGRITRSM_OPS12', 'PCH_AGRITRSM_OPS_07_12',\n",
       "       'AGRITRSM_RCT07', 'AGRITRSM_RCT12', 'PCH_AGRITRSM_RCT_07_12',\n",
       "       'FARM_TO_SCHOOL15', 'BERRY_ACRES07', 'PCH_BERRY_ACRES_07_12',\n",
       "       'BERRY_ACRESPTH07', 'PCH_BERRY_ACRESPTH_07_12', 'FARM_TO_SCHOOL13',\n",
       "       'FRESHVEG_ACRES07', 'FRESHVEG_ACRES12', 'PCH_FRESHVEG_ACRES_07_12',\n",
       "       'FRESHVEG_ACRESPTH07', 'FRESHVEG_ACRESPTH12',\n",
       "       'PCH_FRESHVEG_ACRESPTH_07_12', 'PCH_GHVEG_FARMS_07_12',\n",
       "       'PCH_GHVEG_SQFT_07_12', 'PCH_GHVEG_SQFTPTH_07_12', 'FOODHUB18',\n",
       "       'PCT_DIABETES_ADULTS08', 'PCT_DIABETES_ADULTS13',\n",
       "       'PCT_OBESE_ADULTS12', 'PCT_OBESE_ADULTS17', 'RECFAC11', 'RECFAC16',\n",
       "       'PCH_RECFAC_11_16', 'RECFACPTH11', 'RECFACPTH16',\n",
       "       'PCH_RECFACPTH_11_16', 'PCT_HSPA17', 'PCT_NHWHITE10',\n",
       "       'PCT_NHBLACK10', 'PCT_HISP10', 'PCT_NHASIAN10', 'PCT_NHNA10',\n",
       "       'PCT_NHPI10', 'PCT_65OLDER10', 'PCT_18YOUNGER10', 'MEDHHINC15',\n",
       "       'POVRATE15', 'PERPOV10', 'CHILDPOVRATE15', 'PERCHLDPOV10',\n",
       "       'METRO13', 'POPLOSS10', '2010_Census_Population',\n",
       "       'Population_Estimate_2011', 'Population_Estimate_2012',\n",
       "       'Population_Estimate_2013', 'Population_Estimate_2014',\n",
       "       'Population_Estimate_2015', 'Population_Estimate_2016',\n",
       "       'Population_Estimate_2017', 'Population_Estimate_2018',\n",
       "       'WIC_PART_2012', 'WIC_PART_2013', 'WIC_PART_2014', 'WIC_PART_2015',\n",
       "       'WIC_PART_2016', 'WIC_PART_2017', 'WIC_PART_2018',\n",
       "       'NSLP_PART_2012', 'NSLP_PART_2013', 'NSLP_PART_2014',\n",
       "       'NSLP_PART_2015', 'NSLP_PART_2016', 'NSLP_PART_2017',\n",
       "       'NSLP_PART_2018', 'SBP_PART_2012', 'SBP_PART_2013',\n",
       "       'SBP_PART_2014', 'SBP_PART_2015', 'SBP_PART_2016', 'SBP_PART_2017',\n",
       "       'SBP_PART_2018', 'CACFP_PART_2012', 'CACFP_PART_2013',\n",
       "       'CACFP_PART_2014', 'CACFP_PART_2015', 'CACFP_PART_2016',\n",
       "       'CACFP_PART_2017', 'CACFP_PART_2018', 'SFSP_PART_2012',\n",
       "       'SFSP_PART_2013', 'SFSP_PART_2014', 'SFSP_PART_2015',\n",
       "       'SFSP_PART_2016', 'SFSP_PART_2017', 'SFSP_PART_2018',\n",
       "       'State_Population_2012', 'State_Population_2013',\n",
       "       'State_Population_2014', 'State_Population_2015',\n",
       "       'State_Population_2016', 'State_Population_2017',\n",
       "       'State_Population_2018'], dtype=object)"
      ]
     },
     "execution_count": 144,
     "metadata": {},
     "output_type": "execute_result"
    }
   ],
   "source": [
    "df_food.Variable_Code.unique()"
   ]
  },
  {
   "cell_type": "code",
   "execution_count": 145,
   "metadata": {},
   "outputs": [
    {
     "data": {
      "text/plain": [
       "332"
      ]
     },
     "execution_count": 145,
     "metadata": {},
     "output_type": "execute_result"
    }
   ],
   "source": [
    "df_food.Variable_Code.nunique()"
   ]
  },
  {
   "cell_type": "code",
   "execution_count": 146,
   "metadata": {},
   "outputs": [
    {
     "data": {
      "text/html": [
       "<div>\n",
       "<style scoped>\n",
       "    .dataframe tbody tr th:only-of-type {\n",
       "        vertical-align: middle;\n",
       "    }\n",
       "\n",
       "    .dataframe tbody tr th {\n",
       "        vertical-align: top;\n",
       "    }\n",
       "\n",
       "    .dataframe thead th {\n",
       "        text-align: right;\n",
       "    }\n",
       "</style>\n",
       "<table border=\"1\" class=\"dataframe\">\n",
       "  <thead>\n",
       "    <tr style=\"text-align: right;\">\n",
       "      <th></th>\n",
       "      <th>FIPS</th>\n",
       "      <th>State</th>\n",
       "      <th>County</th>\n",
       "      <th>Variable_Code</th>\n",
       "      <th>Value</th>\n",
       "    </tr>\n",
       "  </thead>\n",
       "  <tbody>\n",
       "    <tr>\n",
       "      <th>21882</th>\n",
       "      <td>13299</td>\n",
       "      <td>GA</td>\n",
       "      <td>Ware</td>\n",
       "      <td>LACCESS_POP10</td>\n",
       "      <td>13610.323490</td>\n",
       "    </tr>\n",
       "    <tr>\n",
       "      <th>21883</th>\n",
       "      <td>13299</td>\n",
       "      <td>GA</td>\n",
       "      <td>Ware</td>\n",
       "      <td>LACCESS_POP15</td>\n",
       "      <td>14253.192790</td>\n",
       "    </tr>\n",
       "    <tr>\n",
       "      <th>21884</th>\n",
       "      <td>13299</td>\n",
       "      <td>GA</td>\n",
       "      <td>Ware</td>\n",
       "      <td>PCH_LACCESS_POP_10_15</td>\n",
       "      <td>4.723395</td>\n",
       "    </tr>\n",
       "    <tr>\n",
       "      <th>21885</th>\n",
       "      <td>13299</td>\n",
       "      <td>GA</td>\n",
       "      <td>Ware</td>\n",
       "      <td>PCT_LACCESS_POP10</td>\n",
       "      <td>37.481613</td>\n",
       "    </tr>\n",
       "    <tr>\n",
       "      <th>21886</th>\n",
       "      <td>13299</td>\n",
       "      <td>GA</td>\n",
       "      <td>Ware</td>\n",
       "      <td>PCT_LACCESS_POP15</td>\n",
       "      <td>39.252018</td>\n",
       "    </tr>\n",
       "    <tr>\n",
       "      <th>...</th>\n",
       "      <td>...</td>\n",
       "      <td>...</td>\n",
       "      <td>...</td>\n",
       "      <td>...</td>\n",
       "      <td>...</td>\n",
       "    </tr>\n",
       "    <tr>\n",
       "      <th>783275</th>\n",
       "      <td>13299</td>\n",
       "      <td>GA</td>\n",
       "      <td>Ware</td>\n",
       "      <td>PERPOV10</td>\n",
       "      <td>1.000000</td>\n",
       "    </tr>\n",
       "    <tr>\n",
       "      <th>783276</th>\n",
       "      <td>13299</td>\n",
       "      <td>GA</td>\n",
       "      <td>Ware</td>\n",
       "      <td>CHILDPOVRATE15</td>\n",
       "      <td>45.600000</td>\n",
       "    </tr>\n",
       "    <tr>\n",
       "      <th>783277</th>\n",
       "      <td>13299</td>\n",
       "      <td>GA</td>\n",
       "      <td>Ware</td>\n",
       "      <td>PERCHLDPOV10</td>\n",
       "      <td>1.000000</td>\n",
       "    </tr>\n",
       "    <tr>\n",
       "      <th>783278</th>\n",
       "      <td>13299</td>\n",
       "      <td>GA</td>\n",
       "      <td>Ware</td>\n",
       "      <td>METRO13</td>\n",
       "      <td>0.000000</td>\n",
       "    </tr>\n",
       "    <tr>\n",
       "      <th>783279</th>\n",
       "      <td>13299</td>\n",
       "      <td>GA</td>\n",
       "      <td>Ware</td>\n",
       "      <td>POPLOSS10</td>\n",
       "      <td>0.000000</td>\n",
       "    </tr>\n",
       "  </tbody>\n",
       "</table>\n",
       "<p>259 rows × 5 columns</p>\n",
       "</div>"
      ],
      "text/plain": [
       "         FIPS State County          Variable_Code         Value\n",
       "21882   13299    GA   Ware          LACCESS_POP10  13610.323490\n",
       "21883   13299    GA   Ware          LACCESS_POP15  14253.192790\n",
       "21884   13299    GA   Ware  PCH_LACCESS_POP_10_15      4.723395\n",
       "21885   13299    GA   Ware      PCT_LACCESS_POP10     37.481613\n",
       "21886   13299    GA   Ware      PCT_LACCESS_POP15     39.252018\n",
       "...       ...   ...    ...                    ...           ...\n",
       "783275  13299    GA   Ware               PERPOV10      1.000000\n",
       "783276  13299    GA   Ware         CHILDPOVRATE15     45.600000\n",
       "783277  13299    GA   Ware           PERCHLDPOV10      1.000000\n",
       "783278  13299    GA   Ware                METRO13      0.000000\n",
       "783279  13299    GA   Ware              POPLOSS10      0.000000\n",
       "\n",
       "[259 rows x 5 columns]"
      ]
     },
     "execution_count": 146,
     "metadata": {},
     "output_type": "execute_result"
    }
   ],
   "source": [
    "df_food[df_food.County=='Ware']"
   ]
  },
  {
   "cell_type": "code",
   "execution_count": null,
   "metadata": {},
   "outputs": [],
   "source": []
  }
 ],
 "metadata": {
  "kernelspec": {
   "display_name": "Python 3",
   "language": "python",
   "name": "python3"
  },
  "language_info": {
   "codemirror_mode": {
    "name": "ipython",
    "version": 3
   },
   "file_extension": ".py",
   "mimetype": "text/x-python",
   "name": "python",
   "nbconvert_exporter": "python",
   "pygments_lexer": "ipython3",
   "version": "3.10.12"
  }
 },
 "nbformat": 4,
 "nbformat_minor": 2
}
